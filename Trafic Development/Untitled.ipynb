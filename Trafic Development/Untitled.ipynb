{
 "cells": [
  {
   "cell_type": "code",
   "execution_count": null,
   "metadata": {},
   "outputs": [],
   "source": [
    "import pandas as pd\n",
    "import requests\n",
    "import json\n",
    "import numpy as np\n",
    "import api_key as ap"
   ]
  },
  {
   "cell_type": "code",
   "execution_count": null,
   "metadata": {
    "scrolled": true
   },
   "outputs": [],
   "source": [
    "url_base = 'https://api.tomtom.com/traffic/services/4/flowSegmentData/absolute/10/json?'\n",
    "url_base2 = ''\n",
    "inventario = pd.read_csv('Inventario.csv', encoding='Latin1')\n",
    "inventario.head()"
   ]
  },
  {
   "cell_type": "code",
   "execution_count": null,
   "metadata": {},
   "outputs": [],
   "source": [
    "response = requests.get('https://api.tomtom.com/traffic/services/4/flowSegmentData/absolute/10/json?key=fayvSGzFbw7cc8T95OyAvTfYAtshKd5D&point=19.431508,-99.207766')\n",
    "#response.status_code\n",
    "response"
   ]
  },
  {
   "cell_type": "code",
   "execution_count": null,
   "metadata": {},
   "outputs": [],
   "source": [
    "comer = inventario[inventario.PROBLEMA == 'COMERCIALIZABLE']\n",
    "comer.head()"
   ]
  },
  {
   "cell_type": "code",
   "execution_count": null,
   "metadata": {},
   "outputs": [],
   "source": [
    "ubi = comer[['CLAVE JCD', 'LATITUD', 'LONGITUD']]\n",
    "ubi.head()"
   ]
  },
  {
   "cell_type": "code",
   "execution_count": null,
   "metadata": {},
   "outputs": [],
   "source": [
    "null = ubi.dropna()\n",
    "\n",
    "null.count()"
   ]
  },
  {
   "cell_type": "code",
   "execution_count": null,
   "metadata": {
    "scrolled": true
   },
   "outputs": [],
   "source": [
    "null1 = null[null.LATITUD != 0]\n",
    "null1"
   ]
  },
  {
   "cell_type": "code",
   "execution_count": null,
   "metadata": {
    "scrolled": true
   },
   "outputs": [],
   "source": [
    "null2 = null1[null1.LONGITUD != 0]\n",
    "null2"
   ]
  },
  {
   "cell_type": "code",
   "execution_count": null,
   "metadata": {},
   "outputs": [],
   "source": [
    "null2.count()"
   ]
  },
  {
   "cell_type": "code",
   "execution_count": null,
   "metadata": {},
   "outputs": [],
   "source": [
    "Clave = []\n",
    "Latitud = []\n",
    "Direccion = []\n",
    "Longitud = []\n",
    "Info = {}\n",
    "\n",
    "for index, row in null2.iterrows():\n",
    "    Clave.append(row[\"CLAVE JCD\"])\n",
    "    Latitud.append(row[\"LATITUD\"])\n",
    "    Longitud.append(row[\"LONGITUD\"])\n",
    "    Info.update({row[\"CLAVE JCD\"]: [row[\"LATITUD\"], row[\"LONGITUD\"]]})\n",
    "    Direccion.append(str(row[\"LATITUD\"]) + ',' + str(row[\"LONGITUD\"]))"
   ]
  },
  {
   "cell_type": "code",
   "execution_count": null,
   "metadata": {},
   "outputs": [],
   "source": [
    "#for key, value in Info.items():\n",
    "#    value.append(\"Loco\")\n",
    "#    print(value[0])"
   ]
  },
  {
   "cell_type": "code",
   "execution_count": null,
   "metadata": {
    "scrolled": true
   },
   "outputs": [],
   "source": [
    "Respuestas = []\n",
    "\n",
    "Direccion2 = Direccion[:10]\n",
    "\n",
    "contador = 1\n",
    "\n",
    "for key, value in Info.items():\n",
    "    url = url_base + 'key=' + ap.api_key + '&point=' + str(value[0]) + ',' + str(value[1])\n",
    "    try:\n",
    "        value.append(requests.get(url).json()[\"flowSegmentData\"][\"frc\"])\n",
    "        value.append(requests.get(url).json()[\"flowSegmentData\"][\"currentSpeed\"])\n",
    "        status = requests.get(url).status_code\n",
    "        #FAlta estatus\n",
    "        print(f'El indice es |{contador}| y vamos en el inmueble |{key}| y con un status |{status}|')\n",
    "        contador = contador + 1\n",
    "    except:\n",
    "        status = requests.get(url).status_code\n",
    "        print(f'No hay información en el inmueble |{key}|, obtuvo un status |{status}|')\n",
    "        contador = contador + 1"
   ]
  },
  {
   "cell_type": "code",
   "execution_count": null,
   "metadata": {},
   "outputs": [],
   "source": [
    "print(Info)"
   ]
  },
  {
   "cell_type": "code",
   "execution_count": null,
   "metadata": {},
   "outputs": [],
   "source": [
    "Data = pd.DataFrame.from_dict(Info, orient='index', columns=['LATITUD', 'LONGITUD', 'CALLE','VELOCIDAD'])"
   ]
  },
  {
   "cell_type": "code",
   "execution_count": null,
   "metadata": {},
   "outputs": [],
   "source": [
    "Data.head()"
   ]
  },
  {
   "cell_type": "code",
   "execution_count": null,
   "metadata": {},
   "outputs": [],
   "source": [
    "Data.to_csv('Velocidad.csv')"
   ]
  }
 ],
 "metadata": {
  "kernelspec": {
   "display_name": "Python 3",
   "language": "python",
   "name": "python3"
  },
  "language_info": {
   "codemirror_mode": {
    "name": "ipython",
    "version": 3
   },
   "file_extension": ".py",
   "mimetype": "text/x-python",
   "name": "python",
   "nbconvert_exporter": "python",
   "pygments_lexer": "ipython3",
   "version": "3.7.1"
  }
 },
 "nbformat": 4,
 "nbformat_minor": 2
}
